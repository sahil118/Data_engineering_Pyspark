{
 "cells": [
  {
   "cell_type": "code",
   "execution_count": null,
   "id": "773b17f3-9fac-4a9f-a0a6-e8545e75f40b",
   "metadata": {},
   "outputs": [],
   "source": [
    "from pyspark.sql import SparkSession\n",
    "import findspark\n",
    "findspark.init()\n",
    "from pyspark.sql.functions import explode,col"
   ]
  },
  {
   "cell_type": "code",
   "execution_count": null,
   "id": "31c0851a-c1da-41e7-a4fc-a7686015b324",
   "metadata": {},
   "outputs": [],
   "source": [
    "spark = SparkSession.builder\\\n",
    "        .appName(\"rdd\")\\\n",
    "        .getOrCreate()\n",
    "\n",
    "spotify_df = spark.read.format(\"json\").option(\"inferschema\",\"True\").load(\"C:\\\\Users\\\\moham\\\\Downloads\\\\spotify_raw_2025-05-07 07_27_09.593907.json\")"
   ]
  },
  {
   "cell_type": "code",
   "execution_count": null,
   "id": "ffb75ed6-3c50-437a-8ff4-04d59dd796c2",
   "metadata": {},
   "outputs": [],
   "source": [
    "def process_album(df):\n",
    "#Explode items\n",
    "    explode_df = df.select(explode(\"items\").alias(\"item\"))\n",
    "#extrating album_details\n",
    "    df_al = explode_df.select(\n",
    "        col(\"item.track.album.id\").alias(\"album_id\"),\n",
    "        col(\"item.track.album.name\").alias(\"album_name\"),\n",
    "        col(\"item.track.album.release_date\").alias(\"album_release_date\"),\n",
    "        col(\"item.track.album.total_tracks\").alias(\"album_total_track\"),\n",
    "        col(\"item.track.album.external_urls.spotify\").alias(\"album_url\")\n",
    "    ).drop_duplicates(['album_id'])\n",
    "    df_album = df_al.withColumn(\"album_release_date\",to_date(\"album_release_date\"))\n",
    "    return df_album\n",
    "\n",
    "def process_artist(df):\n",
    "    explode_df = df.select(explode(\"items\").alias(\"item\"))\n",
    "    artist_explode = explode_df.select(explode(\"item.track.artists\").alias(\"artists\"))\n",
    "    df_artist = artist_explode.select(\n",
    "        col(\"artists.id\").alias(\"artist_id\"),\n",
    "        col(\"artists.name\").alias(\"artist_name\"),\n",
    "        col(\"artists.external_urls.spotify\").alias(\"external_url\")\n",
    "    ).drop_duplicates([\"artist_id\"])\n",
    "    return df_artist\n",
    "\n",
    "def process_song(df):\n",
    "    explode_df = df.select(explode(\"items\").alias(\"items\"))\n",
    "    df_so = explode_df.select(\n",
    "        col(\"items.track.id\").alias(\"song_id\"),\n",
    "        col(\"items.track.album.id\").alias(\"album_id\"),\n",
    "        col(\"items.track.album.artists\")[0][\"id\"].alias(\"artist_id\"),\n",
    "        col(\"items.track.name\").alias(\"song_name\"),\n",
    "        col(\"items.track.popularity\").alias(\"song_popularity\"),\n",
    "        col(\"items.track.duration_ms\").alias(\"song_duration\"),\n",
    "        col(\"items.track.external_urls.spotify\").alias(\"song_url\"),\n",
    "        col(\"items.added_at\").alias(\"song_added_date\")\n",
    "    ).drop_duplicates([\"song_id\"])\n",
    "    df_song = df_so.withColumn(\"song_added_date\",df_so.song_added_date.cast(\"date\"))\n",
    "    return df_song\n",
    "    \n",
    "    \n"
   ]
  },
  {
   "cell_type": "code",
   "execution_count": null,
   "id": "284e3830-f83c-4b6d-8510-b41c83824928",
   "metadata": {},
   "outputs": [],
   "source": [
    "album_df = process_album(spotify_df)\n",
    "artist_df = process_artist(spotify_df)\n",
    "song_df = process_song(spotify_df)"
   ]
  }
 ],
 "metadata": {
  "kernelspec": {
   "display_name": "Python 3 (ipykernel)",
   "language": "python",
   "name": "python3"
  },
  "language_info": {
   "codemirror_mode": {
    "name": "ipython",
    "version": 3
   },
   "file_extension": ".py",
   "mimetype": "text/x-python",
   "name": "python",
   "nbconvert_exporter": "python",
   "pygments_lexer": "ipython3",
   "version": "3.11.8"
  }
 },
 "nbformat": 4,
 "nbformat_minor": 5
}
